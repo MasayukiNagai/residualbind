{
 "cells": [
  {
   "cell_type": "code",
   "execution_count": 1,
   "id": "44a80d38-041a-4d76-82fb-b7f8abab690a",
   "metadata": {},
   "outputs": [],
   "source": [
    "import tensorflow as tf\n",
    "from tensorflow import keras\n",
    "from scipy import stats\n",
    "import numpy as np\n",
    "import h5py\n",
    "from pathlib import Path\n",
    "\n",
    "import helper"
   ]
  },
  {
   "cell_type": "code",
   "execution_count": 2,
   "id": "a963fcce-c42d-4d51-863e-69cca85d8b47",
   "metadata": {},
   "outputs": [
    {
     "name": "stdout",
     "output_type": "stream",
     "text": [
      "[PhysicalDevice(name='/physical_device:GPU:0', device_type='GPU')]\n"
     ]
    }
   ],
   "source": [
    "gpus = tf.config.list_physical_devices('GPU')\n",
    "print(gpus)"
   ]
  },
  {
   "cell_type": "code",
   "execution_count": 11,
   "id": "58213be0-812a-44c0-bcd3-349b55acd152",
   "metadata": {},
   "outputs": [],
   "source": [
    "# normalization = 'log_norm'   # 'log_norm' or 'clip_norm'\n",
    "# ss_type = 'seq'                  # 'seq', 'pu', or 'struct'\n",
    "\n",
    "# data_path = Path('./data/rnacompete2013.h5')\n",
    "# results_path = Path('./results/rnacomplete_2013')\n",
    "# save_path = results_path / f'{normalization}_{ss_type}'\n",
    "\n",
    "# results_path.mkdir(parents=False, exist_ok=True)\n",
    "# save_path.mkdir(parents=False, exist_ok=True)"
   ]
  },
  {
   "cell_type": "code",
   "execution_count": 25,
   "id": "43797e00-252f-4fd9-a2b4-01de1a6bf5f8",
   "metadata": {},
   "outputs": [
    {
     "name": "stdout",
     "output_type": "stream",
     "text": [
      "The number of experiments: 244\n",
      "Loading: RNCMPT00100 (index = 0)\n",
      "(108227, 41, 4)\n"
     ]
    }
   ],
   "source": [
    "# 2013\n",
    "data_path = Path('./data/rnacompete2013.h5')\n",
    "experiments = helper.get_experiment_names(data_path)\n",
    "print(f'The number of experiments: {len(experiments)}')\n",
    "rbp_index = 0  \n",
    "\n",
    "print(f'Loading: {experiments[rbp_index]} (index = {rbp_index})')\n",
    "train, valid, test = helper.load_rnacompete_data(\n",
    "    data_path, \n",
    "    ss_type='seq', \n",
    "    normalization= 'log_norm', \n",
    "    rbp_index=rbp_index\n",
    ")\n",
    "\n",
    "print(train['inputs'].shape)"
   ]
  },
  {
   "cell_type": "code",
   "execution_count": 23,
   "id": "fece524d-97f0-41b9-8dd6-a1386d670734",
   "metadata": {},
   "outputs": [
    {
     "name": "stdout",
     "output_type": "stream",
     "text": [
      "Loading: VTS1\n",
      "(37187, 39, 4)\n"
     ]
    }
   ],
   "source": [
    "# 2009\n",
    "data_path = Path('./data/rnacompete2009.h5')\n",
    "rbp_names = ['VTS1', 'Fusip', 'HuR', 'PTB', 'RBM4', 'SF2', 'SLM2', 'U1A', 'VTS1', 'YB1']\n",
    "rbp_name = rbp_names[0]\n",
    "\n",
    "print(f'Loading: {rbp_name}')\n",
    "train, valid, test = helper.load_rnacompete_data(\n",
    "    data_path, \n",
    "    ss_type=ss_type, \n",
    "    normalization=normalization, \n",
    "    dataset_name=rbp_name\n",
    ")\n",
    "\n",
    "print(train['inputs'].shape)"
   ]
  },
  {
   "cell_type": "code",
   "execution_count": 28,
   "id": "8774d26a-10d5-45ae-ab93-0011f6b39670",
   "metadata": {},
   "outputs": [],
   "source": [
    "def convert_onehot2seq(onehot, alphabet='ACGU'):\n",
    "    assert len(onehot.shape) == 3\n",
    "    assert onehot.shape[2] == 4\n",
    "    \n",
    "    base_map = list(alphabet)\n",
    "    sequences = []\n",
    "\n",
    "    for i in range(onehot.shape[0]):\n",
    "        seq = ''\n",
    "        arr = onehot[i]\n",
    "        nonzero_mask = np.any(arr != 0, axis=1)\n",
    "        indices = np.where(nonzero_mask)[0]\n",
    "\n",
    "        if len(indices) == 0:\n",
    "            sequences.append('')\n",
    "            continue\n",
    "\n",
    "        start, end = indices[0], indices[-1] + 1\n",
    "\n",
    "        # Ensure contiguous non-zero block\n",
    "        if not np.all(nonzero_mask[start:end]):\n",
    "            raise ValueError(f'Non-contiguous non-zero block in sequence {i}')\n",
    "\n",
    "        idxs = np.argmax(arr[start:end], axis=1)\n",
    "        seq = ''.join([base_map[j] for j in idxs])\n",
    "        sequences.append(seq)\n",
    "\n",
    "    return sequences"
   ]
  },
  {
   "cell_type": "code",
   "execution_count": 29,
   "id": "cb3444e1-c63d-4b54-b986-beae1c5a768f",
   "metadata": {},
   "outputs": [
    {
     "data": {
      "text/plain": [
       "['AGAUGUCUCGCCGUCCCUGAGCAGCAAAACCUCUC',\n",
       " 'AGACCAAGUUGUGAAAUAGUCGAGGGAGUCGAAGUGCC',\n",
       " 'AGAUAUAACAUGUCUAAACAAAUUCUAUACUAGCUGAG',\n",
       " 'AGGAGUUAACGAUGAACUUUAGGCGCUGUGGAAAUCCC',\n",
       " 'AGGGACCGAACGAAAACAACAUUCAGAUGUGGCUGCCG',\n",
       " 'AGGGAGAUGGGCUGUGUAGAACUGAUGAGAGCGAAUUG',\n",
       " 'AGACGCUUCUGUUUGUGGAAAUUAGCCUUAAUUUU',\n",
       " 'AGAACGAUCUCAGGUCCACCGAUAAUCCAUGCCAUUCG',\n",
       " 'AGAGUUGAGAGUAGCCUCUGCCUUCCAGGAUGUAAAAA',\n",
       " 'AGACCUGAUCCUCUCAUCUGGCCAAAAUGG']"
      ]
     },
     "execution_count": 29,
     "metadata": {},
     "output_type": "execute_result"
    }
   ],
   "source": [
    "onehot = train['inputs']\n",
    "sequences = convert_onehot2seq(onehot)\n",
    "sequences[:10]"
   ]
  }
 ],
 "metadata": {
  "kernelspec": {
   "display_name": "Python 3 (ipykernel)",
   "language": "python",
   "name": "python3"
  },
  "language_info": {
   "codemirror_mode": {
    "name": "ipython",
    "version": 3
   },
   "file_extension": ".py",
   "mimetype": "text/x-python",
   "name": "python",
   "nbconvert_exporter": "python",
   "pygments_lexer": "ipython3",
   "version": "3.9.21"
  }
 },
 "nbformat": 4,
 "nbformat_minor": 5
}
