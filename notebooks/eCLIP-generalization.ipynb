{
 "cells": [
  {
   "cell_type": "code",
   "execution_count": 2,
   "metadata": {},
   "outputs": [],
   "source": [
    "import os, sys, h5py\n",
    "import numpy as np\n",
    "import itertools\n",
    "from six.moves import cPickle\n",
    "#import helper\n",
    "\n",
    "import matplotlib as pyplot\n",
    "%matplotlib inline"
   ]
  },
  {
   "cell_type": "markdown",
   "metadata": {},
   "source": [
    "# define mapping between rnacompete and eclip"
   ]
  },
  {
   "cell_type": "code",
   "execution_count": null,
   "metadata": {},
   "outputs": [],
   "source": [
    "K562 = {'TIA1': 38,\n",
    "        'TARDBP': 101,\n",
    "        'SRSF7': 37,\n",
    "        'SRSF1': 23,\n",
    "        'QKI': 87,\n",
    "        'PTBP1': 79,\n",
    "        'KHDRBS1': 111,\n",
    "        'IGF2BP2': 6,\n",
    "        'HNRNPK': 14 ,\n",
    "        'HNRNPA1': 43, \n",
    "        'FXR2': 76 ,\n",
    "        'FXR1': 114 ,\n",
    "        'FMR1': 50 ,\n",
    "        'U2AF2': 54 ,\n",
    "        'RBFOX2': 27, \n",
    "        'PUM2': 113}\n",
    "\n",
    "HepG2 = {'TIA1': 26, \n",
    "         'SRSF9': 78, \n",
    "         'SRSF7': 25,\n",
    "         'SFPQ': 52, \n",
    "         'RBM5': 28, \n",
    "         'QKI': 64, \n",
    "         'PTBP1': 56, \n",
    "         'HNRNPC': 61, \n",
    "         'U2AF2': 37, \n",
    "         'IGF2BP3': 69, \n",
    "         'RBFOX2': 18,\n",
    "         }\n",
    "\n",
    "rnacompete = {'TIA1': ['RNCMPT00165', 'RNCMPT00077'],\n",
    "              'TARDBP': ['RNCMPT00076'],\n",
    "              'SRSF9': ['RNCMPT00074', 'RNCMPT00067'],\n",
    "              'SRSF7': ['RNCMPT00073'],\n",
    "              'SRSF1': ['RNCMPT00109', 'RNCMPT00108', 'RNCMPT00107', 'RNCMPT00106', 'RNCMPT00163', 'K562_RNCMPT00110'],\n",
    "              'SFPQ': ['RNCMPT00177'],\n",
    "              'RBM5': ['RNCMPT00154', 'RNCMPT00055'],\n",
    "              'QKI': ['RNCMPT00047'],\n",
    "              'PTBP1': ['RNCMPT00269', 'RNCMPT00268'],\n",
    "              'PCBP2': ['RNCMPT00044', 'RNCMPT00246'],\n",
    "              'KHDRBS1': ['RNCMPT00169', 'RNCMPT00062'],\n",
    "              'IGF2BP2': ['RNCMPT00033'],\n",
    "              'HNRNPK': ['RNCMPT00026'],\n",
    "              'HNRNPC': ['RNCMPT00025'],\n",
    "              'HNRNPA1': ['RNCMPT00022'],\n",
    "              'FXR2': ['RNCMPT00020'],\n",
    "              'FXR1': ['RNCMPT00161'],\n",
    "              'FMR1': ['RNCMPT00015', 'RNCMPT00016'],\n",
    "              'U2AF2': ['RNCMPT00079'],\n",
    "              'IGF2BP3': ['RNCMPT00172'],\n",
    "              'RBFOX2': ['RNCMPT00168'],\n",
    "              'PUM2': ['RNCMPT00105', 'RNCMPT00104', 'RNCMPT00103', 'RNCMPT00102', 'RNCMPT00101', 'RNCMPT00046'],    \n",
    "              }\n"
   ]
  },
  {
   "cell_type": "code",
   "execution_count": 4,
   "metadata": {},
   "outputs": [],
   "source": [
    "data_path = '../../data/eclip_data/K562.h5'\n",
    "\n",
    "dataset = h5py.File(data_path, 'r')\n",
    "# load set A data\n",
    "x_train = np.array(dataset['X_train']).astype(np.float32)\n",
    "y_train = np.array(dataset['Y_train']).astype(np.float32)\n",
    "x_valid = np.array(dataset['X_valid']).astype(np.float32)\n",
    "y_valid = np.array(dataset['Y_valid']).astype(np.float32)\n",
    "x_test = np.array(dataset['X_test']).astype(np.float32)\n",
    "y_test = np.array(dataset['Y_test']).astype(np.float32)\n"
   ]
  }
 ],
 "metadata": {
  "kernelspec": {
   "display_name": "Python 3",
   "language": "python",
   "name": "python3"
  },
  "language_info": {
   "codemirror_mode": {
    "name": "ipython",
    "version": 3
   },
   "file_extension": ".py",
   "mimetype": "text/x-python",
   "name": "python",
   "nbconvert_exporter": "python",
   "pygments_lexer": "ipython3",
   "version": "3.6.9"
  }
 },
 "nbformat": 4,
 "nbformat_minor": 2
}
