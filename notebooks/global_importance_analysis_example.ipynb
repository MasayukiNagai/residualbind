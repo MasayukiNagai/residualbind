{
 "cells": [
  {
   "cell_type": "code",
   "execution_count": 1,
   "metadata": {},
   "outputs": [
    {
     "name": "stderr",
     "output_type": "stream",
     "text": [
      "Using TensorFlow backend.\n"
     ]
    }
   ],
   "source": [
    "import os, sys, h5py\n",
    "import numpy as np\n",
    "import itertools\n",
    "from six.moves import cPickle\n",
    "from scipy import stats\n",
    "\n",
    "import helper\n",
    "import global_importance\n",
    "from tensorflow import keras\n",
    "from keras import backend as K\n",
    "\n",
    "import matplotlib.pyplot as plt\n",
    "%matplotlib inline"
   ]
  },
  {
   "cell_type": "code",
   "execution_count": 2,
   "metadata": {},
   "outputs": [
    {
     "name": "stdout",
     "output_type": "stream",
     "text": [
      "RNCMPT00168\n"
     ]
    }
   ],
   "source": [
    "\n",
    "rbp_index = 69\n",
    "model_name = 'residualbind'\n",
    "normalize_method = 'clip_norm'   # 'log_norm' or 'clip_norm'\n",
    "ss_type = 'seq'                  # 'seq', 'pu', or 'struct'\n",
    "results_path = helper.make_directory('..','results')\n",
    "save_path = helper.make_directory(results_path, model_name+'_'+normalize_method+'_'+ss_type)\n",
    "\n",
    "\n",
    "data_path = '../data/RNAcompete_2013/rnacompete2013.h5'\n",
    "train, valid, test = helper.load_dataset_hdf5(data_path, ss_type='seq', rbp_index=rbp_index)\n",
    "\n",
    "experiments = helper.get_experiments_hdf5(data_path)\n",
    "experiment = experiments[rbp_index].decode('UTF-8')\n",
    "print(experiment)"
   ]
  },
  {
   "cell_type": "code",
   "execution_count": 3,
   "metadata": {},
   "outputs": [
    {
     "name": "stdout",
     "output_type": "stream",
     "text": [
      "WARNING:tensorflow:From /usr/lib/python3/dist-packages/tensorflow_core/python/ops/resource_variable_ops.py:1630: calling BaseResourceVariable.__init__ (from tensorflow.python.ops.resource_variable_ops) with constraint is deprecated and will be removed in a future version.\n",
      "Instructions for updating:\n",
      "If using Keras pass *_constraint arguments to layers.\n"
     ]
    }
   ],
   "source": [
    "K.clear_session()\n",
    "    \n",
    "# load model\n",
    "inputs, outputs = helper.load_model(model_name)\n",
    "model = keras.Model(inputs=inputs, outputs=outputs)\n",
    "\n",
    "# set up optimizer and metrics\n",
    "optimizer = keras.optimizers.Adam(learning_rate=0.001)\n",
    "model.compile(optimizer=optimizer, loss=keras.losses.MeanSquaredError())\n",
    "\n",
    "# set to best model\n",
    "weights_path = os.path.join(save_path, experiment + '_weights.hdf5')\n",
    "model.load_weights(weights_path)"
   ]
  },
  {
   "cell_type": "code",
   "execution_count": 4,
   "metadata": {},
   "outputs": [],
   "source": [
    "import global_importance as gi\n",
    "alphabet = 'ACGU'\n",
    "\n",
    "profile = np.mean(np.squeeze(train['inputs']), axis=0)\n",
    "profile /= np.sum(profile, axis=1, keepdims=True)\n",
    "\n",
    "\n",
    "null_sequence = gi.sample_profile_sequences(profile, num_sim=1000)\n"
   ]
  },
  {
   "cell_type": "code",
   "execution_count": 72,
   "metadata": {},
   "outputs": [
    {
     "data": {
      "text/plain": [
       "'RNCMPT00168'"
      ]
     },
     "execution_count": 72,
     "metadata": {},
     "output_type": "execute_result"
    }
   ],
   "source": [
    "experiment"
   ]
  },
  {
   "cell_type": "code",
   "execution_count": 62,
   "metadata": {},
   "outputs": [
    {
     "name": "stdout",
     "output_type": "stream",
     "text": [
      "500 out of 4096\n",
      "1000 out of 4096\n",
      "1500 out of 4096\n",
      "2000 out of 4096\n",
      "2500 out of 4096\n",
      "3000 out of 4096\n",
      "3500 out of 4096\n",
      "4000 out of 4096\n"
     ]
    }
   ],
   "source": [
    "kmer_size = 6\n",
    "position = 17\n",
    "kmers, mean_scores = gi.optimal_kmer(model, null_sequence, kmer_size, position, alphabet)\n"
   ]
  },
  {
   "cell_type": "code",
   "execution_count": 63,
   "metadata": {},
   "outputs": [
    {
     "name": "stdout",
     "output_type": "stream",
     "text": [
      "UGCAUG 4.5963407\n",
      "AGCAUG 4.4789753\n",
      "GCAUGA 4.3673005\n",
      "GCAUGC 4.2471924\n",
      "GCAUGU 3.8702142\n",
      "GCAUGG 3.7201858\n",
      "CGCAUG 3.7197943\n",
      "GGCAUG 2.7172503\n",
      "UGCACG 2.5834138\n",
      "GCACGA 1.888329\n"
     ]
    }
   ],
   "source": [
    "for i in range(10):\n",
    "    print(kmers[i], mean_scores[i])"
   ]
  },
  {
   "cell_type": "code",
   "execution_count": 67,
   "metadata": {},
   "outputs": [],
   "source": [
    "motif = kmers[0]\n",
    "position = 17\n",
    "mean_scores = gi.mutagenesis(model, null_sequence, motif, position, alphabet)"
   ]
  },
  {
   "cell_type": "code",
   "execution_count": 71,
   "metadata": {},
   "outputs": [
    {
     "data": {
      "image/png": "[encoded data removed]",
      "text/plain": [
       "<Figure size 432x288 with 2 Axes>"
      ]
     },
     "metadata": {
      "needs_background": "light"
     },
     "output_type": "display_data"
    }
   ],
   "source": [
    "fig = plt.figure()\n",
    "ax = plt.axes()\n",
    "im = ax.imshow(mean_scores.T - np.max(mean_scores), cmap='hot')\n",
    "plt.xlabel('Positions', fontsize=22)\n",
    "plt.xticks(range(len(motif)), range(1,len(motif)+1), fontsize=22, ha='center');\n",
    "plt.yticks([0,1,2,3], ['A', 'C', 'G', 'U'], fontsize=22)\n",
    "\n",
    "cax = fig.add_axes([ax.get_position().x1+0.04, ax.get_position().y0, 0.05, ax.get_position().height])\n",
    "cbar = plt.colorbar(im, cax=cax, fraction=95, pad=0.1) \n",
    "cbar.ax.tick_params(labelsize=22) \n",
    "\n",
    "plt.ylabel('$\\Delta$ P', fontsize=22);\n",
    "\n"
   ]
  },
  {
   "cell_type": "code",
   "execution_count": 7,
   "metadata": {},
   "outputs": [],
   "source": [
    "motif='UGCAUG'\n",
    "positions = [2, 8, 14, 20, 26, 32]\n",
    "mean_scores, all_scores = gi.positional_bias(model, null_sequence, motif, positions, alphabet)"
   ]
  },
  {
   "cell_type": "code",
   "execution_count": 10,
   "metadata": {},
   "outputs": [
    {
     "data": {
      "text/plain": [
       "(7, 1000)"
      ]
     },
     "execution_count": 10,
     "metadata": {},
     "output_type": "execute_result"
    }
   ],
   "source": [
    "all_scores.shape"
   ]
  },
  {
   "cell_type": "code",
   "execution_count": 12,
   "metadata": {},
   "outputs": [
    {
     "data": {
      "text/plain": [
       "Text(0.5, 0, 'Positions')"
      ]
     },
     "execution_count": 12,
     "metadata": {},
     "output_type": "execute_result"
    },
    {
     "data": {
      "image/png": "[encoded data removed]",
      "text/plain": [
       "<Figure size 432x288 with 1 Axes>"
      ]
     },
     "metadata": {
      "needs_background": "light"
     },
     "output_type": "display_data"
    }
   ],
   "source": [
    "fig = plt.figure()\n",
    "plt.boxplot(all_scores[1:,:].T, showfliers=False);\n",
    "plt.xticks(range(1,len(positions)+1), positions, fontsize=14, ha='center');\n",
    "ax = plt.gca();\n",
    "plt.setp(ax.get_yticklabels(),fontsize=14);\n",
    "plt.ylabel('Global importance', fontsize=14)\n",
    "plt.xlabel('Positions', fontsize=14)\n",
    "#outfile = os.path.join(save_path, experiment+'_motif_location_syn_norm.pdf')\n",
    "#fig.savefig(outfile, format='pdf', dpi=200, bbox_inches='tight')"
   ]
  },
  {
   "cell_type": "code",
   "execution_count": 20,
   "metadata": {},
   "outputs": [],
   "source": [
    "motif = 'UGCAUG'\n",
    "positions = [23, 2, 12, 30]\n",
    "\n",
    "mean_scores, all_scores = gi.multiple_sites(model, null_sequence, motif, positions, alphabet)"
   ]
  },
  {
   "cell_type": "code",
   "execution_count": 21,
   "metadata": {},
   "outputs": [
    {
     "data": {
      "text/plain": [
       "Text(0, 0.5, 'Global importance')"
      ]
     },
     "execution_count": 21,
     "metadata": {},
     "output_type": "execute_result"
    },
    {
     "data": {
      "image/png": "[encoded data removed]",
      "text/plain": [
       "<Figure size 432x288 with 1 Axes>"
      ]
     },
     "metadata": {
      "needs_background": "light"
     },
     "output_type": "display_data"
    }
   ],
   "source": [
    "\n",
    "fig = plt.figure()\n",
    "plt.boxplot(all_scores[1:,:].T, showfliers=False);\n",
    "plt.xticks(range(1,len(positions)+1), [motif+' (x1)', motif+' (x2)', motif+' (x3)', motif+' (x4)'], rotation=40, fontsize=14, ha='right');\n",
    "ax = plt.gca();\n",
    "plt.setp(ax.get_yticklabels(),fontsize=12)\n",
    "plt.ylabel('Global importance', fontsize=14);\n",
    "#outfile = os.path.join(save_path, experiment+'_multiple_sites_exp.pdf')\n",
    "#fig.savefig(outfile, format='pdf', dpi=200, bbox_inches='tight')\n"
   ]
  },
  {
   "cell_type": "code",
   "execution_count": 5,
   "metadata": {},
   "outputs": [],
   "source": [
    "motif='UGCAUG'\n",
    "motif_position=17\n",
    "gc_motif='GCGCGC'\n",
    "gc_positions=[34, 2]\n",
    "\n",
    "mean_scoress, all_scores = gi.gc_bias(model, null_sequence, motif, motif_position,\n",
    "                                      gc_motif, gc_positions, alphabet)"
   ]
  },
  {
   "cell_type": "code",
   "execution_count": 77,
   "metadata": {},
   "outputs": [
    {
     "data": {
      "text/plain": [
       "8.261183"
      ]
     },
     "execution_count": 77,
     "metadata": {},
     "output_type": "execute_result"
    }
   ],
   "source": [
    "\n",
    "fig = plt.figure()\n",
    "plt.boxplot(all_scores[:,:].T, showfliers=False);\n",
    "plt.xticks([1, 2, 3, 4, 5, 6], ['Random', 'GC (right)', 'Motif', 'Motif+GC (right)', 'Motif+GC (left)'], rotation=40, fontsize=14, ha='right');\n",
    "ax = plt.gca();\n",
    "plt.setp(ax.get_yticklabels(),fontsize=14);\n",
    "plt.ylabel('Global importance', fontsize=14)\n",
    "#outfile = os.path.join(save_path, experiment+'_gcbias_degeneracy.pdf')\n",
    "#fig.savefig(outfile, format='pdf', dpi=200, bbox_inches='tight')\n"
   ]
  },
  {
   "cell_type": "code",
   "execution_count": 83,
   "metadata": {},
   "outputs": [
    {
     "data": {
      "image/png": "[encoded data removed]",
      "text/plain": [
       "<Figure size 432x288 with 1 Axes>"
      ]
     },
     "metadata": {
      "needs_background": "light"
     },
     "output_type": "display_data"
    }
   ],
   "source": [
    "\n",
    "fig = plt.figure()\n",
    "plt.boxplot(all_scores[:,:].T, showfliers=False);\n",
    "plt.xticks([1, 2, 3, 4, 5, 6], ['Random', 'GC (right)', 'Motif', 'Motif+GC (right)', 'Motif+GC (left)'], rotation=40, fontsize=14, ha='right');\n",
    "ax = plt.gca();\n",
    "plt.setp(ax.get_yticklabels(),fontsize=14);\n",
    "plt.ylabel('Global importance', fontsize=14)\n",
    "#outfile = os.path.join(save_path, experiment+'_gcbias_degeneracy.pdf')\n",
    "#fig.savefig(outfile, format='pdf', dpi=200, bbox_inches='tight')\n",
    "\n",
    "start = 4\n",
    "end = 5\n",
    "height = np.max(all_scores)+.5\n",
    "results = stats.ttest_ind(all_scores[:,start], all_scores[:,end])\n",
    "if results.pvalue > 0.05:\n",
    "    displaystring = 'NS'\n",
    "else:\n",
    "    displaystring = '*'\n",
    "significance_bar(start,end,height,displaystring,linewidth=1.2,markersize=8,boxpad=0.3,fontsize=15,color='k')\n",
    "\n",
    "start = 3\n",
    "end = 4\n",
    "height = np.max(all_scores)+.5\n",
    "results = stats.ttest_ind(all_scores[:,start], all_scores[:,end])\n",
    "if results.pvalue > 0.05:\n",
    "    displaystring = 'NS'\n",
    "else:\n",
    "    displaystring = '*'\n",
    "significance_bar(start,end,height,displaystring,linewidth=1.2,markersize=8,boxpad=0.3,fontsize=15,color='k')\n",
    "\n"
   ]
  },
  {
   "cell_type": "code",
   "execution_count": null,
   "metadata": {},
   "outputs": [],
   "source": []
  },
  {
   "cell_type": "code",
   "execution_count": null,
   "metadata": {},
   "outputs": [],
   "source": []
  }
 ],
 "metadata": {
  "kernelspec": {
   "display_name": "Python 3",
   "language": "python",
   "name": "python3"
  },
  "language_info": {
   "codemirror_mode": {
    "name": "ipython",
    "version": 3
   },
   "file_extension": ".py",
   "mimetype": "text/x-python",
   "name": "python",
   "nbconvert_exporter": "python",
   "pygments_lexer": "ipython3",
   "version": "3.6.9"
  }
 },
 "nbformat": 4,
 "nbformat_minor": 2
}
