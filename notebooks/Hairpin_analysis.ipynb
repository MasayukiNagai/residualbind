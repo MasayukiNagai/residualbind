{
 "cells": [
  {
   "cell_type": "code",
   "execution_count": 1,
   "metadata": {},
   "outputs": [
    {
     "name": "stderr",
     "output_type": "stream",
     "text": [
      "Using TensorFlow backend.\n"
     ]
    }
   ],
   "source": [
    "import os, sys, h5py\n",
    "import numpy as np\n",
    "from six.moves import cPickle\n",
    "import matplotlib.pyplot as plt\n",
    "%matplotlib inline\n",
    "\n",
    "sys.path.append('..')\n",
    "import helper\n",
    "from residualbind_classify import ResidualBind"
   ]
  },
  {
   "cell_type": "code",
   "execution_count": 2,
   "metadata": {},
   "outputs": [
    {
     "name": "stderr",
     "output_type": "stream",
     "text": [
      "/home/peter/.local/lib/python3.6/site-packages/ipykernel_launcher.py:2: H5pyDeprecationWarning: The default file mode will change to 'r' (read-only) in h5py 3.0. To suppress this warning, pass the mode you need to h5py.File(), or set the global default h5.get_config().default_file_mode, or set the environment variable H5PY_DEFAULT_READONLY=1. Available modes are: 'r', 'r+', 'w', 'w-'/'x', 'a'. See the docs for details.\n",
      "  \n"
     ]
    }
   ],
   "source": [
    "data_path = '../../data/random_sequences_with_custom_hl.hdf5'\n",
    "with h5py.File(data_path) as dataset:\n",
    "    X_train_seq = np.array(dataset['train_seq']).transpose([0, 2, 1])\n",
    "    X_train_struct = np.array(dataset['train_structures']).transpose([0, 2, 1])\n",
    "    Y_train = np.array(dataset['train_targets'])\n",
    "    X_test_seq = np.array(dataset['test_seq']).transpose([0, 2, 1])\n",
    "    X_test_struct = np.array(dataset['test_structures']).transpose([0, 2, 1])\n",
    "    Y_test = np.array(dataset['test_targets'])\n",
    "\n",
    "num_data, seq_length, num_alphabet = X_train_seq.shape\n",
    "\n",
    "# get validation set from training set\n",
    "valid_frac = 0.2\n",
    "N = len(X_train_seq)\n",
    "split_index = int(N*valid_frac)\n",
    "shuffle = np.random.permutation(N)\n",
    "\n",
    "train = {'inputs': X_train_seq[shuffle[split_index:]], \n",
    "         'targets': Y_train[shuffle[split_index:]]}\n",
    "valid = {'inputs': X_train_seq[shuffle[:split_index]], \n",
    "         'targets': Y_train[shuffle[:split_index]]}\n",
    "test = {'inputs': X_test_seq, 'targets': Y_test}"
   ]
  },
  {
   "cell_type": "code",
   "execution_count": 3,
   "metadata": {},
   "outputs": [],
   "source": [
    "save_path = helper.make_directory('../../results', 'hairpin')"
   ]
  },
  {
   "cell_type": "code",
   "execution_count": 4,
   "metadata": {},
   "outputs": [
    {
     "name": "stdout",
     "output_type": "stream",
     "text": [
      "WARNING:tensorflow:From /usr/lib/python3/dist-packages/tensorflow_core/python/ops/resource_variable_ops.py:1630: calling BaseResourceVariable.__init__ (from tensorflow.python.ops.resource_variable_ops) with constraint is deprecated and will be removed in a future version.\n",
      "Instructions for updating:\n",
      "If using Keras pass *_constraint arguments to layers.\n",
      "WARNING:tensorflow:From /usr/lib/python3/dist-packages/tensorflow_core/python/keras/metrics.py:1809: where (from tensorflow.python.ops.array_ops) is deprecated and will be removed in a future version.\n",
      "Instructions for updating:\n",
      "Use tf.where in 2.0, which has the same broadcast rule as np.where\n",
      "Train on 192000 samples, validate on 48000 samples\n",
      "Epoch 1/300\n"
     ]
    },
    {
     "ename": "UnknownError",
     "evalue": "2 root error(s) found.\n  (0) Unknown: Failed to get convolution algorithm. This is probably because cuDNN failed to initialize, so try looking to see if a warning log message was printed above.\n\t [[{{node conv1d/conv1d}}]]\n\t [[metrics/acc/Identity/_447]]\n  (1) Unknown: Failed to get convolution algorithm. This is probably because cuDNN failed to initialize, so try looking to see if a warning log message was printed above.\n\t [[{{node conv1d/conv1d}}]]\n0 successful operations.\n0 derived errors ignored.",
     "output_type": "error",
     "traceback": [
      "\u001b[0;31m---------------------------------------------------------------------------\u001b[0m",
      "\u001b[0;31mUnknownError\u001b[0m                              Traceback (most recent call last)",
      "\u001b[0;32m<ipython-input-4-6a50276eaa52>\u001b[0m in \u001b[0;36m<module>\u001b[0;34m\u001b[0m\n\u001b[1;32m      6\u001b[0m \u001b[0;31m# fit model\u001b[0m\u001b[0;34m\u001b[0m\u001b[0;34m\u001b[0m\u001b[0;34m\u001b[0m\u001b[0m\n\u001b[1;32m      7\u001b[0m model.fit(train, valid, num_epochs=300, batch_size=100, patience=25, \n\u001b[0;32m----> 8\u001b[0;31m           lr=0.001, lr_decay=0.3, decay_patience=7)\n\u001b[0m",
      "\u001b[0;32m~/Dropbox/Projects/residualbind2/residualbind/residualbind_classify.py\u001b[0m in \u001b[0;36mfit\u001b[0;34m(self, train, valid, num_epochs, batch_size, patience, lr, lr_decay, decay_patience)\u001b[0m\n\u001b[1;32m    140\u001b[0m                             \u001b[0mshuffle\u001b[0m\u001b[0;34m=\u001b[0m\u001b[0;32mTrue\u001b[0m\u001b[0;34m,\u001b[0m\u001b[0;34m\u001b[0m\u001b[0;34m\u001b[0m\u001b[0m\n\u001b[1;32m    141\u001b[0m                             \u001b[0mvalidation_data\u001b[0m\u001b[0;34m=\u001b[0m\u001b[0;34m(\u001b[0m\u001b[0mvalid\u001b[0m\u001b[0;34m[\u001b[0m\u001b[0;34m'inputs'\u001b[0m\u001b[0;34m]\u001b[0m\u001b[0;34m,\u001b[0m \u001b[0mvalid\u001b[0m\u001b[0;34m[\u001b[0m\u001b[0;34m'targets'\u001b[0m\u001b[0;34m]\u001b[0m\u001b[0;34m)\u001b[0m\u001b[0;34m,\u001b[0m\u001b[0;34m\u001b[0m\u001b[0;34m\u001b[0m\u001b[0m\n\u001b[0;32m--> 142\u001b[0;31m                             callbacks=[es_callback, reduce_lr])\n\u001b[0m\u001b[1;32m    143\u001b[0m \u001b[0;34m\u001b[0m\u001b[0m\n\u001b[1;32m    144\u001b[0m         \u001b[0;31m# save model\u001b[0m\u001b[0;34m\u001b[0m\u001b[0;34m\u001b[0m\u001b[0;34m\u001b[0m\u001b[0m\n",
      "\u001b[0;32m/usr/lib/python3/dist-packages/tensorflow_core/python/keras/engine/training.py\u001b[0m in \u001b[0;36mfit\u001b[0;34m(self, x, y, batch_size, epochs, verbose, callbacks, validation_split, validation_data, shuffle, class_weight, sample_weight, initial_epoch, steps_per_epoch, validation_steps, validation_freq, max_queue_size, workers, use_multiprocessing, **kwargs)\u001b[0m\n\u001b[1;32m    725\u001b[0m         \u001b[0mmax_queue_size\u001b[0m\u001b[0;34m=\u001b[0m\u001b[0mmax_queue_size\u001b[0m\u001b[0;34m,\u001b[0m\u001b[0;34m\u001b[0m\u001b[0;34m\u001b[0m\u001b[0m\n\u001b[1;32m    726\u001b[0m         \u001b[0mworkers\u001b[0m\u001b[0;34m=\u001b[0m\u001b[0mworkers\u001b[0m\u001b[0;34m,\u001b[0m\u001b[0;34m\u001b[0m\u001b[0;34m\u001b[0m\u001b[0m\n\u001b[0;32m--> 727\u001b[0;31m         use_multiprocessing=use_multiprocessing)\n\u001b[0m\u001b[1;32m    728\u001b[0m \u001b[0;34m\u001b[0m\u001b[0m\n\u001b[1;32m    729\u001b[0m   def evaluate(self,\n",
      "\u001b[0;32m/usr/lib/python3/dist-packages/tensorflow_core/python/keras/engine/training_arrays.py\u001b[0m in \u001b[0;36mfit\u001b[0;34m(self, model, x, y, batch_size, epochs, verbose, callbacks, validation_split, validation_data, shuffle, class_weight, sample_weight, initial_epoch, steps_per_epoch, validation_steps, validation_freq, **kwargs)\u001b[0m\n\u001b[1;32m    673\u001b[0m         \u001b[0mvalidation_steps\u001b[0m\u001b[0;34m=\u001b[0m\u001b[0mvalidation_steps\u001b[0m\u001b[0;34m,\u001b[0m\u001b[0;34m\u001b[0m\u001b[0;34m\u001b[0m\u001b[0m\n\u001b[1;32m    674\u001b[0m         \u001b[0mvalidation_freq\u001b[0m\u001b[0;34m=\u001b[0m\u001b[0mvalidation_freq\u001b[0m\u001b[0;34m,\u001b[0m\u001b[0;34m\u001b[0m\u001b[0;34m\u001b[0m\u001b[0m\n\u001b[0;32m--> 675\u001b[0;31m         steps_name='steps_per_epoch')\n\u001b[0m\u001b[1;32m    676\u001b[0m \u001b[0;34m\u001b[0m\u001b[0m\n\u001b[1;32m    677\u001b[0m   def evaluate(self,\n",
      "\u001b[0;32m/usr/lib/python3/dist-packages/tensorflow_core/python/keras/engine/training_arrays.py\u001b[0m in \u001b[0;36mmodel_iteration\u001b[0;34m(model, inputs, targets, sample_weights, batch_size, epochs, verbose, callbacks, val_inputs, val_targets, val_sample_weights, shuffle, initial_epoch, steps_per_epoch, validation_steps, validation_freq, mode, validation_in_fit, prepared_feed_values_from_dataset, steps_name, **kwargs)\u001b[0m\n\u001b[1;32m    392\u001b[0m \u001b[0;34m\u001b[0m\u001b[0m\n\u001b[1;32m    393\u001b[0m         \u001b[0;31m# Get outputs.\u001b[0m\u001b[0;34m\u001b[0m\u001b[0;34m\u001b[0m\u001b[0;34m\u001b[0m\u001b[0m\n\u001b[0;32m--> 394\u001b[0;31m         \u001b[0mbatch_outs\u001b[0m \u001b[0;34m=\u001b[0m \u001b[0mf\u001b[0m\u001b[0;34m(\u001b[0m\u001b[0mins_batch\u001b[0m\u001b[0;34m)\u001b[0m\u001b[0;34m\u001b[0m\u001b[0;34m\u001b[0m\u001b[0m\n\u001b[0m\u001b[1;32m    395\u001b[0m         \u001b[0;32mif\u001b[0m \u001b[0;32mnot\u001b[0m \u001b[0misinstance\u001b[0m\u001b[0;34m(\u001b[0m\u001b[0mbatch_outs\u001b[0m\u001b[0;34m,\u001b[0m \u001b[0mlist\u001b[0m\u001b[0;34m)\u001b[0m\u001b[0;34m:\u001b[0m\u001b[0;34m\u001b[0m\u001b[0;34m\u001b[0m\u001b[0m\n\u001b[1;32m    396\u001b[0m           \u001b[0mbatch_outs\u001b[0m \u001b[0;34m=\u001b[0m \u001b[0;34m[\u001b[0m\u001b[0mbatch_outs\u001b[0m\u001b[0;34m]\u001b[0m\u001b[0;34m\u001b[0m\u001b[0;34m\u001b[0m\u001b[0m\n",
      "\u001b[0;32m/usr/lib/python3/dist-packages/tensorflow_core/python/keras/backend.py\u001b[0m in \u001b[0;36m__call__\u001b[0;34m(self, inputs)\u001b[0m\n\u001b[1;32m   3474\u001b[0m \u001b[0;34m\u001b[0m\u001b[0m\n\u001b[1;32m   3475\u001b[0m     fetched = self._callable_fn(*array_vals,\n\u001b[0;32m-> 3476\u001b[0;31m                                 run_metadata=self.run_metadata)\n\u001b[0m\u001b[1;32m   3477\u001b[0m     \u001b[0mself\u001b[0m\u001b[0;34m.\u001b[0m\u001b[0m_call_fetch_callbacks\u001b[0m\u001b[0;34m(\u001b[0m\u001b[0mfetched\u001b[0m\u001b[0;34m[\u001b[0m\u001b[0;34m-\u001b[0m\u001b[0mlen\u001b[0m\u001b[0;34m(\u001b[0m\u001b[0mself\u001b[0m\u001b[0;34m.\u001b[0m\u001b[0m_fetches\u001b[0m\u001b[0;34m)\u001b[0m\u001b[0;34m:\u001b[0m\u001b[0;34m]\u001b[0m\u001b[0;34m)\u001b[0m\u001b[0;34m\u001b[0m\u001b[0;34m\u001b[0m\u001b[0m\n\u001b[1;32m   3478\u001b[0m     output_structure = nest.pack_sequence_as(\n",
      "\u001b[0;32m/usr/lib/python3/dist-packages/tensorflow_core/python/client/session.py\u001b[0m in \u001b[0;36m__call__\u001b[0;34m(self, *args, **kwargs)\u001b[0m\n\u001b[1;32m   1470\u001b[0m         ret = tf_session.TF_SessionRunCallable(self._session._session,\n\u001b[1;32m   1471\u001b[0m                                                \u001b[0mself\u001b[0m\u001b[0;34m.\u001b[0m\u001b[0m_handle\u001b[0m\u001b[0;34m,\u001b[0m \u001b[0margs\u001b[0m\u001b[0;34m,\u001b[0m\u001b[0;34m\u001b[0m\u001b[0;34m\u001b[0m\u001b[0m\n\u001b[0;32m-> 1472\u001b[0;31m                                                run_metadata_ptr)\n\u001b[0m\u001b[1;32m   1473\u001b[0m         \u001b[0;32mif\u001b[0m \u001b[0mrun_metadata\u001b[0m\u001b[0;34m:\u001b[0m\u001b[0;34m\u001b[0m\u001b[0;34m\u001b[0m\u001b[0m\n\u001b[1;32m   1474\u001b[0m           \u001b[0mproto_data\u001b[0m \u001b[0;34m=\u001b[0m \u001b[0mtf_session\u001b[0m\u001b[0;34m.\u001b[0m\u001b[0mTF_GetBuffer\u001b[0m\u001b[0;34m(\u001b[0m\u001b[0mrun_metadata_ptr\u001b[0m\u001b[0;34m)\u001b[0m\u001b[0;34m\u001b[0m\u001b[0;34m\u001b[0m\u001b[0m\n",
      "\u001b[0;31mUnknownError\u001b[0m: 2 root error(s) found.\n  (0) Unknown: Failed to get convolution algorithm. This is probably because cuDNN failed to initialize, so try looking to see if a warning log message was printed above.\n\t [[{{node conv1d/conv1d}}]]\n\t [[metrics/acc/Identity/_447]]\n  (1) Unknown: Failed to get convolution algorithm. This is probably because cuDNN failed to initialize, so try looking to see if a warning log message was printed above.\n\t [[{{node conv1d/conv1d}}]]\n0 successful operations.\n0 derived errors ignored."
     ]
    }
   ],
   "source": [
    "# load residualbind model\n",
    "input_shape = list(train['inputs'].shape)[1:]\n",
    "weights_path = os.path.join(save_path, 'residualbind_classify_weights.hdf5')    \n",
    "model = ResidualBind(input_shape, weights_path)\n",
    "\n",
    "# fit model\n",
    "model.fit(train, valid, num_epochs=300, batch_size=100, patience=25, \n",
    "          lr=0.001, lr_decay=0.3, decay_patience=7)\n"
   ]
  },
  {
   "cell_type": "code",
   "execution_count": 5,
   "metadata": {},
   "outputs": [],
   "source": [
    "# evaluate model\n",
    "corr = model.test_model(test, batch_size=100, weights='best')"
   ]
  },
  {
   "cell_type": "markdown",
   "metadata": {},
   "source": [
    "# Mutagenesis study"
   ]
  },
  {
   "cell_type": "code",
   "execution_count": 13,
   "metadata": {},
   "outputs": [],
   "source": [
    "\n",
    "def first_order_mutagenesis(model, X, class_index=0):\n",
    "    N,L,A = X.shape\n",
    "\n",
    "    # get wild-type score\n",
    "    wt_score = model.predict(X)\n",
    "\n",
    "    # generate mutagenesis sequences\n",
    "    X_mut = np.dot(np.ones((L*A, 1)), X)\n",
    "    k = 0\n",
    "    for i in range(L):\n",
    "        for j in range(A):\n",
    "            X_mut[k,i,:] = 0\n",
    "            X_mut[k,i,j] = 1        \n",
    "            k += 1\n",
    "\n",
    "    # get first order mutagenesis score\n",
    "    mut_scores = model.predict(X_mut)[:,class_index]\n",
    "\n",
    "    # calculate log-odds score\n",
    "    mutagenesis = np.log(mut_scores + 1e-7) - np.log(wt_score + 1e-7)\n",
    "    mutagenesis = np.reshape(mutagenesis, [L, A])\n",
    "    \n",
    "    return mutagenesis\n",
    "\n",
    "\n",
    "def second_order_mutagenesis(model, X, class_index=0):\n",
    "    N,L,A = X.shape\n",
    "    \n",
    "    # get wild-type score\n",
    "    wt_score = model.predict(X)\n",
    "    \n",
    "    # generate second-order mutagenesis sequences\n",
    "    num_mut = L**2*A**2\n",
    "    X_mut = np.reshape(np.dot(np.ones((num_mut, 1)), X), [num_mut,L,A])\n",
    "    k = 0\n",
    "    for i in range(L):\n",
    "        for j in range(L):\n",
    "            for m in range(A):\n",
    "                for n in range(A):\n",
    "                    X_mut[k,i,:] = 0\n",
    "                    X_mut[k,i,m] = 1        \n",
    "                    X_mut[k,j,:] = 0\n",
    "                    X_mut[k,j,n] = 1        \n",
    "                    k += 1\n",
    "\n",
    "    # get second order mutagenesis score\n",
    "    mut_scores = model.predict(X_mut)[:,class_index]\n",
    "\n",
    "    # calculate log-odds score\n",
    "    log_odds = np.log(mut_scores + 1e-7) - np.log(wt_score + 1e-7)\n",
    "\n",
    "    # reshape second order scores\n",
    "    second_mutagenesis = np.zeros((L,L,A,A))\n",
    "    k = 0\n",
    "    for i in range(L):\n",
    "        for j in range(L):\n",
    "            for m in range(A):\n",
    "                for n in range(A):\n",
    "                    second_mutagenesis[i,j,m,n] = log_odds[k]\n",
    "                    k += 1\n",
    "                \n",
    "    return second_mutagenesis"
   ]
  },
  {
   "cell_type": "markdown",
   "metadata": {},
   "source": [
    "# Perform 1st-order and 2nd-order mutagenesis "
   ]
  },
  {
   "cell_type": "code",
   "execution_count": 14,
   "metadata": {
    "scrolled": true
   },
   "outputs": [
    {
     "name": "stdout",
     "output_type": "stream",
     "text": [
      "200 out of 1000\n",
      "400 out of 1000\n",
      "600 out of 1000\n",
      "800 out of 1000\n",
      "1000 out of 1000\n"
     ]
    }
   ],
   "source": [
    "pos_index = np.where(test['targets'][:,0] == 1)[0]\n",
    "\n",
    "N = 1000#len(pos_index)\n",
    "mutagenesis_1 = np.zeros((N,L,A))\n",
    "mutagenesis_2 = np.zeros((N,L,L,A,A))\n",
    "for i, index in enumerate(pos_index[:N]):\n",
    "    X = np.expand_dims(test['inputs'][index], axis=0)\n",
    "    mutagenesis_1[i,:,:] = first_order_mutagenesis(sess, nntrainer, X)\n",
    "    mutagenesis_2[i,:,:,:,:] = second_order_mutagenesis(sess, nntrainer, X)\n",
    "    \n",
    "    if np.mod(i+1, 200) == 0:\n",
    "        print(\"%d out of %d\"%(i+1,N))\n",
    "        \n",
    "# save results to file\n",
    "with open(os.path.join(save_path, 'mutagenesis_pos.pickle'), 'wb') as f:\n",
    "    cPickle.dump(mutagenesis_1, f)\n",
    "    cPickle.dump(mutagenesis_2, f)"
   ]
  },
  {
   "cell_type": "code",
   "execution_count": null,
   "metadata": {},
   "outputs": [],
   "source": [
    "# load mutagenesis results\n",
    "with open(os.path.join(save_path, 'mutagenesis_pos.pickle'), 'rb') as f:\n",
    "    mutagenesis_1 = cPickle.load(f)\n",
    "    mutagenesis_2 = cPickle.load(f)"
   ]
  },
  {
   "cell_type": "markdown",
   "metadata": {},
   "source": [
    "# Plot 1st-order mutagenesis"
   ]
  },
  {
   "cell_type": "code",
   "execution_count": null,
   "metadata": {},
   "outputs": [],
   "source": [
    "plt.figure(figsize=(15,2))\n",
    "plt.imshow(np.mean(mutagenesis_1, axis=0).T, interpolation=None, cmap='Reds_r')\n",
    "plt.colorbar()\n",
    "#outfile = os.path.join(save_path, 'first_order_mutagenesis.pdf')\n",
    "#fig.savefig(outfile, format='pdf', dpi=200, bbox_inches='tight')"
   ]
  },
  {
   "cell_type": "markdown",
   "metadata": {},
   "source": [
    "# Plot second order mutagenesis"
   ]
  },
  {
   "cell_type": "code",
   "execution_count": 28,
   "metadata": {
    "scrolled": false
   },
   "outputs": [
    {
     "data": {
      "image/png": "[encoded data removed]",
      "text/plain": [
       "<matplotlib.figure.Figure at 0x7f5e131dc7d0>"
      ]
     },
     "metadata": {},
     "output_type": "display_data"
    }
   ],
   "source": [
    "pairs = np.vstack([range(6,17), range(24,35)[::-1]]).T\n",
    "\n",
    "fig = plt.figure(figsize=(25,25))\n",
    "k = 1\n",
    "stem1 = range(6,17)[::-1]\n",
    "stem2 = range(24,35)\n",
    "for i in stem1:\n",
    "    for j in stem2:\n",
    "        plt.subplot(len(stem1),len(stem2),k)\n",
    "        plt.imshow(mut[i,j,:,:], interpolation='none', cmap='hot', vmin=-1.38, vmax=0.0)\n",
    "        \n",
    "        if k in range(1,len(stem1)**2, len(stem1)):\n",
    "            plt.yticks([0, 1, 2, 3], ['A', 'C', 'G', 'U'], fontsize=16)\n",
    "            plt.ylabel(str(i), fontsize=22)\n",
    "        else:\n",
    "            plt.yticks([])\n",
    "        if k in range(len(stem1)**2-len(stem1)+1,len(stem1)**2+1):\n",
    "            plt.xticks([0, 1, 2, 3], ['A', 'C', 'G', 'U'], fontsize=16)\n",
    "        else:\n",
    "            plt.xticks([])\n",
    "\n",
    "        if k in range(1,len(stem1)+1):\n",
    "            plt.title(str(j), fontsize=22)\n",
    "        k += 1\n",
    "\n",
    "#outfile = os.path.join(save_path, 'second_order_mutagenesis_stem_positions.pdf')\n",
    "#fig.savefig(outfile, format='pdf', dpi=200, bbox_inches='tight')"
   ]
  },
  {
   "cell_type": "code",
   "execution_count": null,
   "metadata": {},
   "outputs": [],
   "source": []
  }
 ],
 "metadata": {
  "kernelspec": {
   "display_name": "Python 3",
   "language": "python",
   "name": "python3"
  },
  "language_info": {
   "codemirror_mode": {
    "name": "ipython",
    "version": 3
   },
   "file_extension": ".py",
   "mimetype": "text/x-python",
   "name": "python",
   "nbconvert_exporter": "python",
   "pygments_lexer": "ipython3",
   "version": "3.6.9"
  }
 },
 "nbformat": 4,
 "nbformat_minor": 2
}
